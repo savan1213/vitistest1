{
 "cells": [
  {
   "cell_type": "markdown",
   "metadata": {},
   "source": [
    "# Image Classification with Caffe\n",
    "\n",
    "This tutorial demonstrates the steps required to prepare and deploy a trained Caffe model for FPGA acceleration using Xilinx MLSuite:  \n",
    "1. **Quantize the model** - The quantizer will generate scaling parameters for quantizing floats INT8. This is required, because FPGAs will take advantage of Fixed Point Precision, to achieve more parallelization at lower power. \n",
    "2. **Compile the Model** - In this step, the network Graph (prototxt) and the Weights (caffemodel) are compiled, the compiler \n",
    "3. **Subgraph Cutting** - In this step, the original graph is cut, and a custom FPGA accelerated python layer is inserted to be used for Inference. \n",
    "4. **Classification** - In this step, the caffe model and the prototxt from the previous step are run on the FPGA to perform inference on an input image.\n",
    "  \n",
    "For command line versions see: examples/caffe/  \n",
    "  \n",
    "## Prerequisite Files\n",
    "1. **Model files** - This notebook requires that model files are located in  \n",
    "  `$VAI_ALVEO_ROOT/examples/caffe/models/`\n",
    "2. **Image files** - This notebook requires ilsvrc2012 image files are downloaded in  \n",
    "  `$HOME/CK-TOOLS/dataset-imagenet-ilsvrc2012-val-min/`\n",
    "  \n",
    "## Setup (Before Running Notebook)\n",
    "```\n",
    "python -m ck pull repo:ck-env\n",
    "python -m ck install package:imagenet-2012-val-min\n",
    "python -m ck install package:imagenet-2012-aux\n",
    "head -n 500 $HOME/CK-TOOLS/dataset-imagenet-ilsvrc2012-aux/val.txt > $HOME/CK-TOOLS/dataset-imagenet-ilsvrc2012-val-min/val_map.txt\n",
    "cd $VAI_ALVEO_ROOT/examples/caffe\n",
    "python resize.py $HOME/CK-TOOLS/dataset-imagenet-ilsvrc2012-val-min 256 256\n",
    "python getModels.py\n",
    "source $VAI_ALVEO_ROOT/overlaybins/setup.sh\n",
    "```"
   ]
  },
  {
   "cell_type": "markdown",
   "metadata": {},
   "source": [
    "### Step 1. Import required packages"
   ]
  },
  {
   "cell_type": "code",
   "execution_count": 1,
   "metadata": {},
   "outputs": [
    {
     "name": "stdout",
     "output_type": "stream",
     "text": [
      "Running w/ VAI_ALVEO_ROOT: /workspace/alveo\n",
      "Running w/ XCLBIN: /opt/xilinx/overlaybins/xdnnv3\n"
     ]
    }
   ],
   "source": [
    "from __future__ import print_function\n",
    "\n",
    "import os\n",
    "import shutil\n",
    "import subprocess\n",
    "\n",
    "from IPython.display import Image as display\n",
    "from ipywidgets import interact\n",
    "\n",
    "import numpy as np\n",
    "from caffe import Classifier, io\n",
    "from caffe.proto import caffe_pb2\n",
    "from caffe.draw import draw_net_to_file\n",
    "from google.protobuf import text_format\n",
    "\n",
    "# Environment Variables (\"source overlaybins/setup.sh\")\n",
    "HOME = os.getenv(\"HOME\",\"/home/mluser\")\n",
    "VAI_ALVEO_ROOT = os.getenv(\"VAI_ALVEO_ROOT\",os.getcwd()+\"/..\")\n",
    "#MLSUITE_PLATFORM = os.getenv(\"MLSUITE_PLATFORM\",\"alveo-u200\")\n",
    "XCLBIN = \"/opt/xilinx/overlaybins/xdnnv3\"\n",
    "\n",
    "#print(\"Running w/ HOME: %s\" % HOME)\n",
    "print(\"Running w/ VAI_ALVEO_ROOT: %s\" % VAI_ALVEO_ROOT)\n",
    "print(\"Running w/ XCLBIN: %s\" % XCLBIN)\n",
    "#print(\"Running w/ MLSUITE_PLATFORM: %s\" % MLSUITE_PLATFORM)\n",
    "\n",
    "# Bring in ml-suite Quantizer, Compiler, SubGraph Cutter\n",
    "from decent import CaffeFrontend as xfdnnQuantizer\n",
    "from vai.dpuv1.tools.compile.bin.xfdnn_compiler_caffe  import CaffeFrontend as xfdnnCompiler\n",
    "from vai.dpuv1.rt.scripts.framework.caffe.xfdnn_subgraph import CaffeCutter as xfdnnCutter"
   ]
  },
  {
   "cell_type": "code",
   "execution_count": 2,
   "metadata": {},
   "outputs": [],
   "source": [
    "# Cleaning up directories\n",
    "if os.path.exists(\"quantize_results\"):\n",
    "    shutil.rmtree(\"quantize_results\")\n",
    "if os.path.exists(\"work\"):\n",
    "    shutil.rmtree(\"work\")"
   ]
  },
  {
   "cell_type": "markdown",
   "metadata": {},
   "source": [
    "### Step 2. Choose a model\n",
    "Choose a model using the drop down, or select custom, and enter your own."
   ]
  },
  {
   "cell_type": "code",
   "execution_count": 3,
   "metadata": {},
   "outputs": [
    {
     "data": {
      "application/vnd.jupyter.widget-view+json": {
       "model_id": "602a77e0f1814193bd94718619623700",
       "version_major": 2,
       "version_minor": 0
      },
      "text/plain": [
       "interactive(children=(Dropdown(description='MODEL', options=('bvlc_googlenet', 'inception_v2', 'inception_v3',…"
      ]
     },
     "metadata": {},
     "output_type": "display_data"
    }
   ],
   "source": [
    "@interact(MODEL=[\"bvlc_googlenet\",\"inception_v2\",\"inception_v3\",\"inception_v4\",\\\n",
    "                    \"resnet50_v1\",\"resnet50_v2\",\"squeezenet\",\"vgg16\",\"custom\"])\n",
    "def selectModel(MODEL):\n",
    "    global prototxt\n",
    "    global caffemodel\n",
    "    global name\n",
    "    model_root = VAI_ALVEO_ROOT + \"/examples/caffe/models/\"\n",
    "    if MODEL == \"custom\":\n",
    "        prototxt = None\n",
    "        caffemodel = None\n",
    "        name = None\n",
    "    else:\n",
    "        prototxt = model_root + MODEL + \"/\" + MODEL + \"_train_val.prototxt\"\n",
    "        caffemodel = model_root + MODEL + \"/\" + MODEL + \".caffemodel\"\n",
    "        name = MODEL"
   ]
  },
  {
   "cell_type": "code",
   "execution_count": 4,
   "metadata": {},
   "outputs": [],
   "source": [
    "if not prototxt:\n",
    "    @interact(PROTOTXT=\"Provide the path to your prototxt\")\n",
    "    def selectPrototxt(PROTOTXT):\n",
    "        global prototxt\n",
    "        prototxt = PROTOTXT\n",
    "    @interact(CAFFEMODEL=\"Provide the path to your caffemodel\")\n",
    "    def selectCaffemodel(CAFFEMODEL):\n",
    "        global caffemodel\n",
    "        caffemodel = CAFFEMODEL\n",
    "    @interact(MODEL=\"Provide a name to your model\")\n",
    "    def selectCaffemodel(MODEL):\n",
    "        global name\n",
    "        name = MODEL"
   ]
  },
  {
   "cell_type": "code",
   "execution_count": 5,
   "metadata": {},
   "outputs": [
    {
     "name": "stdout",
     "output_type": "stream",
     "text": [
      "Currently running : bvlc_googlenet\n",
      "Running with prototxt:   /workspace/alveo/examples/caffe/models/bvlc_googlenet/bvlc_googlenet_train_val.prototxt\n",
      "Running with caffemodel: /workspace/alveo/examples/caffe/models/bvlc_googlenet/bvlc_googlenet.caffemodel\n"
     ]
    }
   ],
   "source": [
    "print(\"Currently running : %s\" % name)\n",
    "print(\"Running with prototxt:   %s\" % prototxt)\n",
    "print(\"Running with caffemodel: %s\" % caffemodel)"
   ]
  },
  {
   "cell_type": "markdown",
   "metadata": {},
   "source": [
    "### Step 3. Run the Quantizer\n",
    "\n",
    "Here, we will quantize the model. The inputs are model prototxt, model weights, number of test iterations and calibration iterations. The output is quantized prototxt, weights, and quantize_info.txt and will be generated in the quantize_results/ directory.\n",
    "\n",
    "The Quantizer will generate a json file holding scaling parameters for quantizing floats to INT8\n",
    "This is required, because FPGAs will take advantage of Fixed Point Precision, to achieve accelerated inference"
   ]
  },
  {
   "cell_type": "code",
   "execution_count": 6,
   "metadata": {},
   "outputs": [],
   "source": [
    "def Quantize(prototxt,caffemodel,calib_iter=1):\n",
    "    os.environ[\"DECENT_DEBUG\"] = \"1\"\n",
    "    subprocess.call([\"vai_q_caffe\", \"quantize\",\n",
    "                 \"--model\", prototxt,\n",
    "                 \"--weights\", caffemodel,\n",
    "                 \"--calib_iter\", str(calib_iter)])\n"
   ]
  },
  {
   "cell_type": "code",
   "execution_count": 7,
   "metadata": {},
   "outputs": [],
   "source": [
    "Quantize(prototxt,caffemodel)"
   ]
  },
  {
   "cell_type": "markdown",
   "metadata": {},
   "source": [
    "### Step 4: Run the Compiler\n",
    "\n",
    "The compiler takes in the quantizer outputs from the previous step (prototxt, weights, quantize_info) and outputs a compiler.json and quantizer.json.\n",
    "\n",
    "* A Network Graph (prototxt) and a Weights Blob (caffemodel) are compiled\n",
    "* The network is optimized\n",
    "* FPGA Instructions are generated"
   ]
  },
  {
   "cell_type": "code",
   "execution_count": 8,
   "metadata": {},
   "outputs": [],
   "source": [
    "def Compile(prototxt=\"quantize_results/deploy.prototxt\",\\\n",
    "            caffemodel=\"quantize_results/deploy.caffemodel\",\\\n",
    "            quantize_info=\"quantize_results/quantize_info.txt\"):\n",
    "    \n",
    "    subprocess.call([\"vai_c_caffe\",\n",
    "                    \"--prototxt\", prototxt,\n",
    "                    \"--caffemodel\", caffemodel,\n",
    "                    \"--net_name\", name,\n",
    "                    \"--output_dir\", \"work\",\n",
    "                    \"--arch\", \"/opt/vitis_ai/compiler/arch/dpuv1/ALVEO/ALVEO.json\",\n",
    "                    \"--options\", \"{\\\"quant_cfgfile\\\":\\\"%s\\\"}\" %(quantize_info)])"
   ]
  },
  {
   "cell_type": "code",
   "execution_count": 9,
   "metadata": {},
   "outputs": [],
   "source": [
    "Compile()"
   ]
  },
  {
   "cell_type": "markdown",
   "metadata": {},
   "source": [
    "### Step 4: Run the Subgraph Cutter\n",
    "\n",
    "The subgraph cutter creates a custom python layer to be accelerated on the FPGA. The inputs are compiler.json, quantizer.json and model weights from the compiler step, as well as the FPGA xclbin. This outputs a cut prototxt file with FPGA references, to be used for inference. "
   ]
  },
  {
   "cell_type": "code",
   "execution_count": 10,
   "metadata": {},
   "outputs": [],
   "source": [
    "def Cut(prototxt):\n",
    "    \n",
    "    cutter = xfdnnCutter(\n",
    "        inproto=\"quantize_results/deploy.prototxt\",\n",
    "        trainproto=prototxt,\n",
    "        outproto=\"xfdnn_auto_cut_deploy.prototxt\",\n",
    "        outtrainproto=\"xfdnn_auto_cut_train_val.prototxt\",\n",
    "        cutAfter=\"data\",\n",
    "        xclbin=XCLBIN,\n",
    "        netcfg=\"work/compiler.json\",\n",
    "        quantizecfg=\"work/quantizer.json\",\n",
    "        weights=\"work/weights.h5\"\n",
    "    )\n",
    "    \n",
    "    cutter.cut()\n"
   ]
  },
  {
   "cell_type": "code",
   "execution_count": 11,
   "metadata": {},
   "outputs": [
    {
     "name": "stdout",
     "output_type": "stream",
     "text": [
      "['--inproto', 'quantize_results/deploy.prototxt']\n",
      "['--inproto', 'quantize_results/deploy.prototxt', '--trainproto', '/workspace/alveo/examples/caffe/models/bvlc_googlenet/bvlc_googlenet_train_val.prototxt']\n",
      "['--inproto', 'quantize_results/deploy.prototxt', '--trainproto', '/workspace/alveo/examples/caffe/models/bvlc_googlenet/bvlc_googlenet_train_val.prototxt', '--outproto', 'xfdnn_auto_cut_deploy.prototxt']\n",
      "['--inproto', 'quantize_results/deploy.prototxt', '--trainproto', '/workspace/alveo/examples/caffe/models/bvlc_googlenet/bvlc_googlenet_train_val.prototxt', '--outproto', 'xfdnn_auto_cut_deploy.prototxt', '--outtrainproto', 'xfdnn_auto_cut_train_val.prototxt']\n",
      "['--inproto', 'quantize_results/deploy.prototxt', '--trainproto', '/workspace/alveo/examples/caffe/models/bvlc_googlenet/bvlc_googlenet_train_val.prototxt', '--outproto', 'xfdnn_auto_cut_deploy.prototxt', '--outtrainproto', 'xfdnn_auto_cut_train_val.prototxt', '--cutAfter', 'data']\n",
      "['--inproto', 'quantize_results/deploy.prototxt', '--trainproto', '/workspace/alveo/examples/caffe/models/bvlc_googlenet/bvlc_googlenet_train_val.prototxt', '--outproto', 'xfdnn_auto_cut_deploy.prototxt', '--outtrainproto', 'xfdnn_auto_cut_train_val.prototxt', '--cutAfter', 'data', '--xclbin', '/opt/xilinx/overlaybins/xdnnv3']\n",
      "['--inproto', 'quantize_results/deploy.prototxt', '--trainproto', '/workspace/alveo/examples/caffe/models/bvlc_googlenet/bvlc_googlenet_train_val.prototxt', '--outproto', 'xfdnn_auto_cut_deploy.prototxt', '--outtrainproto', 'xfdnn_auto_cut_train_val.prototxt', '--cutAfter', 'data', '--xclbin', '/opt/xilinx/overlaybins/xdnnv3', '--netcfg', 'work/compiler.json']\n",
      "['--inproto', 'quantize_results/deploy.prototxt', '--trainproto', '/workspace/alveo/examples/caffe/models/bvlc_googlenet/bvlc_googlenet_train_val.prototxt', '--outproto', 'xfdnn_auto_cut_deploy.prototxt', '--outtrainproto', 'xfdnn_auto_cut_train_val.prototxt', '--cutAfter', 'data', '--xclbin', '/opt/xilinx/overlaybins/xdnnv3', '--netcfg', 'work/compiler.json', '--quantizecfg', 'work/quantizer.json']\n",
      "['--inproto', 'quantize_results/deploy.prototxt', '--trainproto', '/workspace/alveo/examples/caffe/models/bvlc_googlenet/bvlc_googlenet_train_val.prototxt', '--outproto', 'xfdnn_auto_cut_deploy.prototxt', '--outtrainproto', 'xfdnn_auto_cut_train_val.prototxt', '--cutAfter', 'data', '--xclbin', '/opt/xilinx/overlaybins/xdnnv3', '--netcfg', 'work/compiler.json', '--quantizecfg', 'work/quantizer.json', '--weights', 'work/weights.h5']\n",
      "{'xclbin': '/opt/xilinx/overlaybins/xdnnv3', 'netcfg': 'work/compiler.json', 'quantizecfg': 'work/quantizer.json', 'weights': 'work/weights.h5', 'inproto': 'quantize_results/deploy.prototxt', 'outproto': 'xfdnn_auto_cut_deploy.prototxt', 'trainproto': '/workspace/alveo/examples/caffe/models/bvlc_googlenet/bvlc_googlenet_train_val.prototxt', 'outtrainproto': 'xfdnn_auto_cut_train_val.prototxt', 'batch_sz': -1, 'cutAfter': 'data'}\n",
      "Adding output data\n",
      "Adding output conv1/7x7_s2\n",
      "Adding output conv1/7x7_s2\n",
      "Adding output pool1/3x3_s2\n",
      "Adding output conv2/3x3_reduce\n",
      "Adding output conv2/3x3_reduce\n",
      "Adding output conv2/3x3\n",
      "Adding output conv2/3x3\n",
      "Adding output pool2/3x3_s2\n",
      "Adding output inception_3a/1x1\n",
      "Adding output inception_3a/1x1\n",
      "Adding output inception_3a/3x3_reduce\n",
      "Adding output inception_3a/3x3_reduce\n",
      "Adding output inception_3a/3x3\n",
      "Adding output inception_3a/3x3\n",
      "Adding output inception_3a/5x5_reduce\n",
      "Adding output inception_3a/5x5_reduce\n",
      "Adding output inception_3a/5x5\n",
      "Adding output inception_3a/5x5\n",
      "Adding output inception_3a/pool\n",
      "Adding output inception_3a/pool_proj\n",
      "Adding output inception_3a/pool_proj\n",
      "Adding output inception_3a/output\n",
      "Adding output inception_3b/1x1\n",
      "Adding output inception_3b/1x1\n",
      "Adding output inception_3b/3x3_reduce\n",
      "Adding output inception_3b/3x3_reduce\n",
      "Adding output inception_3b/3x3\n",
      "Adding output inception_3b/3x3\n",
      "Adding output inception_3b/5x5_reduce\n",
      "Adding output inception_3b/5x5_reduce\n",
      "Adding output inception_3b/5x5\n",
      "Adding output inception_3b/5x5\n",
      "Adding output inception_3b/pool\n",
      "Adding output inception_3b/pool_proj\n",
      "Adding output inception_3b/pool_proj\n",
      "Adding output inception_3b/output\n",
      "Adding output pool3/3x3_s2\n",
      "Adding output inception_4a/1x1\n",
      "Adding output inception_4a/1x1\n",
      "Adding output inception_4a/3x3_reduce\n",
      "Adding output inception_4a/3x3_reduce\n",
      "Adding output inception_4a/3x3\n",
      "Adding output inception_4a/3x3\n",
      "Adding output inception_4a/5x5_reduce\n",
      "Adding output inception_4a/5x5_reduce\n",
      "Adding output inception_4a/5x5\n",
      "Adding output inception_4a/5x5\n",
      "Adding output inception_4a/pool\n",
      "Adding output inception_4a/pool_proj\n",
      "Adding output inception_4a/pool_proj\n",
      "Adding output inception_4a/output\n",
      "Adding output inception_4b/1x1\n",
      "Adding output inception_4b/1x1\n",
      "Adding output inception_4b/3x3_reduce\n",
      "Adding output inception_4b/3x3_reduce\n",
      "Adding output inception_4b/3x3\n",
      "Adding output inception_4b/3x3\n",
      "Adding output inception_4b/5x5_reduce\n",
      "Adding output inception_4b/5x5_reduce\n",
      "Adding output inception_4b/5x5\n",
      "Adding output inception_4b/5x5\n",
      "Adding output inception_4b/pool\n",
      "Adding output inception_4b/pool_proj\n",
      "Adding output inception_4b/pool_proj\n",
      "Adding output inception_4b/output\n",
      "Adding output inception_4c/1x1\n",
      "Adding output inception_4c/1x1\n",
      "Adding output inception_4c/3x3_reduce\n",
      "Adding output inception_4c/3x3_reduce\n",
      "Adding output inception_4c/3x3\n",
      "Adding output inception_4c/3x3\n",
      "Adding output inception_4c/5x5_reduce\n",
      "Adding output inception_4c/5x5_reduce\n",
      "Adding output inception_4c/5x5\n",
      "Adding output inception_4c/5x5\n",
      "Adding output inception_4c/pool\n",
      "Adding output inception_4c/pool_proj\n",
      "Adding output inception_4c/pool_proj\n",
      "Adding output inception_4c/output\n",
      "Adding output inception_4d/1x1\n",
      "Adding output inception_4d/1x1\n",
      "Adding output inception_4d/3x3_reduce\n",
      "Adding output inception_4d/3x3_reduce\n",
      "Adding output inception_4d/3x3\n",
      "Adding output inception_4d/3x3\n",
      "Adding output inception_4d/5x5_reduce\n",
      "Adding output inception_4d/5x5_reduce\n",
      "Adding output inception_4d/5x5\n",
      "Adding output inception_4d/5x5\n",
      "Adding output inception_4d/pool\n",
      "Adding output inception_4d/pool_proj\n",
      "Adding output inception_4d/pool_proj\n",
      "Adding output inception_4d/output\n",
      "Adding output inception_4e/1x1\n",
      "Adding output inception_4e/1x1\n",
      "Adding output inception_4e/3x3_reduce\n",
      "Adding output inception_4e/3x3_reduce\n",
      "Adding output inception_4e/3x3\n",
      "Adding output inception_4e/3x3\n",
      "Adding output inception_4e/5x5_reduce\n",
      "Adding output inception_4e/5x5_reduce\n",
      "Adding output inception_4e/5x5\n",
      "Adding output inception_4e/5x5\n",
      "Adding output inception_4e/pool\n",
      "Adding output inception_4e/pool_proj\n",
      "Adding output inception_4e/pool_proj\n",
      "Adding output inception_4e/output\n",
      "Adding output pool4/3x3_s2\n",
      "Adding output inception_5a/1x1\n",
      "Adding output inception_5a/1x1\n",
      "Adding output inception_5a/3x3_reduce\n",
      "Adding output inception_5a/3x3_reduce\n",
      "Adding output inception_5a/3x3\n",
      "Adding output inception_5a/3x3\n",
      "Adding output inception_5a/5x5_reduce\n",
      "Adding output inception_5a/5x5_reduce\n",
      "Adding output inception_5a/5x5\n",
      "Adding output inception_5a/5x5\n",
      "Adding output inception_5a/pool\n",
      "Adding output inception_5a/pool_proj\n",
      "Adding output inception_5a/pool_proj\n",
      "Adding output inception_5a/output\n",
      "Adding output inception_5b/1x1\n",
      "Adding output inception_5b/1x1\n",
      "Adding output inception_5b/3x3_reduce\n",
      "Adding output inception_5b/3x3_reduce\n",
      "Adding output inception_5b/3x3\n",
      "Adding output inception_5b/3x3\n",
      "Adding output inception_5b/5x5_reduce\n",
      "Adding output inception_5b/5x5_reduce\n",
      "Adding output inception_5b/5x5\n",
      "Adding output inception_5b/5x5\n",
      "Adding output inception_5b/pool\n",
      "Adding output inception_5b/pool_proj\n",
      "Adding output inception_5b/pool_proj\n",
      "Adding output inception_5b/output\n",
      "Adding output pool5/7x7_s1\n",
      "Adding output loss3/classifier\n",
      "Adding output loss3/loss3\n",
      "Done\n",
      "Key: data Source: data  Sinks: ['conv1/7x7_s2']\n",
      "Key: conv1/7x7_s2 Source: conv1/relu_7x7  Sinks: ['conv1/relu_7x7', 'pool1/3x3_s2']\n",
      "Key: pool1/3x3_s2 Source: pool1/3x3_s2  Sinks: ['conv2/3x3_reduce']\n",
      "Key: conv2/3x3_reduce Source: conv2/relu_3x3_reduce  Sinks: ['conv2/relu_3x3_reduce', 'conv2/3x3']\n",
      "Key: conv2/3x3 Source: conv2/relu_3x3  Sinks: ['conv2/relu_3x3', 'pool2/3x3_s2']\n",
      "Key: pool2/3x3_s2 Source: pool2/3x3_s2  Sinks: ['inception_3a/1x1', 'inception_3a/3x3_reduce', 'inception_3a/5x5_reduce', 'inception_3a/pool']\n",
      "Key: inception_3a/1x1 Source: inception_3a/relu_1x1  Sinks: ['inception_3a/relu_1x1', 'inception_3a/output']\n",
      "Key: inception_3a/3x3_reduce Source: inception_3a/relu_3x3_reduce  Sinks: ['inception_3a/relu_3x3_reduce', 'inception_3a/3x3']\n",
      "Key: inception_3a/3x3 Source: inception_3a/relu_3x3  Sinks: ['inception_3a/relu_3x3', 'inception_3a/output']\n",
      "Key: inception_3a/5x5_reduce Source: inception_3a/relu_5x5_reduce  Sinks: ['inception_3a/relu_5x5_reduce', 'inception_3a/5x5']\n",
      "Key: inception_3a/5x5 Source: inception_3a/relu_5x5  Sinks: ['inception_3a/relu_5x5', 'inception_3a/output']\n",
      "Key: inception_3a/pool Source: inception_3a/pool  Sinks: ['inception_3a/pool_proj']\n",
      "Key: inception_3a/pool_proj Source: inception_3a/relu_pool_proj  Sinks: ['inception_3a/relu_pool_proj', 'inception_3a/output']\n",
      "Key: inception_3a/output Source: inception_3a/output  Sinks: ['inception_3b/1x1', 'inception_3b/3x3_reduce', 'inception_3b/5x5_reduce', 'inception_3b/pool']\n",
      "Key: inception_3b/1x1 Source: inception_3b/relu_1x1  Sinks: ['inception_3b/relu_1x1', 'inception_3b/output']\n",
      "Key: inception_3b/3x3_reduce Source: inception_3b/relu_3x3_reduce  Sinks: ['inception_3b/relu_3x3_reduce', 'inception_3b/3x3']\n",
      "Key: inception_3b/3x3 Source: inception_3b/relu_3x3  Sinks: ['inception_3b/relu_3x3', 'inception_3b/output']\n",
      "Key: inception_3b/5x5_reduce Source: inception_3b/relu_5x5_reduce  Sinks: ['inception_3b/relu_5x5_reduce', 'inception_3b/5x5']\n",
      "Key: inception_3b/5x5 Source: inception_3b/relu_5x5  Sinks: ['inception_3b/relu_5x5', 'inception_3b/output']\n",
      "Key: inception_3b/pool Source: inception_3b/pool  Sinks: ['inception_3b/pool_proj']\n",
      "Key: inception_3b/pool_proj Source: inception_3b/relu_pool_proj  Sinks: ['inception_3b/relu_pool_proj', 'inception_3b/output']\n",
      "Key: inception_3b/output Source: inception_3b/output  Sinks: ['pool3/3x3_s2']\n",
      "Key: pool3/3x3_s2 Source: pool3/3x3_s2  Sinks: ['inception_4a/1x1', 'inception_4a/3x3_reduce', 'inception_4a/5x5_reduce', 'inception_4a/pool']\n",
      "Key: inception_4a/1x1 Source: inception_4a/relu_1x1  Sinks: ['inception_4a/relu_1x1', 'inception_4a/output']\n",
      "Key: inception_4a/3x3_reduce Source: inception_4a/relu_3x3_reduce  Sinks: ['inception_4a/relu_3x3_reduce', 'inception_4a/3x3']\n",
      "Key: inception_4a/3x3 Source: inception_4a/relu_3x3  Sinks: ['inception_4a/relu_3x3', 'inception_4a/output']\n",
      "Key: inception_4a/5x5_reduce Source: inception_4a/relu_5x5_reduce  Sinks: ['inception_4a/relu_5x5_reduce', 'inception_4a/5x5']\n",
      "Key: inception_4a/5x5 Source: inception_4a/relu_5x5  Sinks: ['inception_4a/relu_5x5', 'inception_4a/output']\n",
      "Key: inception_4a/pool Source: inception_4a/pool  Sinks: ['inception_4a/pool_proj']\n",
      "Key: inception_4a/pool_proj Source: inception_4a/relu_pool_proj  Sinks: ['inception_4a/relu_pool_proj', 'inception_4a/output']\n",
      "Key: inception_4a/output Source: inception_4a/output  Sinks: ['inception_4b/1x1', 'inception_4b/3x3_reduce', 'inception_4b/5x5_reduce', 'inception_4b/pool']\n",
      "Key: inception_4b/1x1 Source: inception_4b/relu_1x1  Sinks: ['inception_4b/relu_1x1', 'inception_4b/output']\n",
      "Key: inception_4b/3x3_reduce Source: inception_4b/relu_3x3_reduce  Sinks: ['inception_4b/relu_3x3_reduce', 'inception_4b/3x3']\n",
      "Key: inception_4b/3x3 Source: inception_4b/relu_3x3  Sinks: ['inception_4b/relu_3x3', 'inception_4b/output']\n",
      "Key: inception_4b/5x5_reduce Source: inception_4b/relu_5x5_reduce  Sinks: ['inception_4b/relu_5x5_reduce', 'inception_4b/5x5']\n",
      "Key: inception_4b/5x5 Source: inception_4b/relu_5x5  Sinks: ['inception_4b/relu_5x5', 'inception_4b/output']\n",
      "Key: inception_4b/pool Source: inception_4b/pool  Sinks: ['inception_4b/pool_proj']\n",
      "Key: inception_4b/pool_proj Source: inception_4b/relu_pool_proj  Sinks: ['inception_4b/relu_pool_proj', 'inception_4b/output']\n",
      "Key: inception_4b/output Source: inception_4b/output  Sinks: ['inception_4c/1x1', 'inception_4c/3x3_reduce', 'inception_4c/5x5_reduce', 'inception_4c/pool']\n",
      "Key: inception_4c/1x1 Source: inception_4c/relu_1x1  Sinks: ['inception_4c/relu_1x1', 'inception_4c/output']\n",
      "Key: inception_4c/3x3_reduce Source: inception_4c/relu_3x3_reduce  Sinks: ['inception_4c/relu_3x3_reduce', 'inception_4c/3x3']\n",
      "Key: inception_4c/3x3 Source: inception_4c/relu_3x3  Sinks: ['inception_4c/relu_3x3', 'inception_4c/output']\n",
      "Key: inception_4c/5x5_reduce Source: inception_4c/relu_5x5_reduce  Sinks: ['inception_4c/relu_5x5_reduce', 'inception_4c/5x5']\n",
      "Key: inception_4c/5x5 Source: inception_4c/relu_5x5  Sinks: ['inception_4c/relu_5x5', 'inception_4c/output']\n",
      "Key: inception_4c/pool Source: inception_4c/pool  Sinks: ['inception_4c/pool_proj']\n",
      "Key: inception_4c/pool_proj Source: inception_4c/relu_pool_proj  Sinks: ['inception_4c/relu_pool_proj', 'inception_4c/output']\n",
      "Key: inception_4c/output Source: inception_4c/output  Sinks: ['inception_4d/1x1', 'inception_4d/3x3_reduce', 'inception_4d/5x5_reduce', 'inception_4d/pool']\n",
      "Key: inception_4d/1x1 Source: inception_4d/relu_1x1  Sinks: ['inception_4d/relu_1x1', 'inception_4d/output']\n",
      "Key: inception_4d/3x3_reduce Source: inception_4d/relu_3x3_reduce  Sinks: ['inception_4d/relu_3x3_reduce', 'inception_4d/3x3']\n",
      "Key: inception_4d/3x3 Source: inception_4d/relu_3x3  Sinks: ['inception_4d/relu_3x3', 'inception_4d/output']\n",
      "Key: inception_4d/5x5_reduce Source: inception_4d/relu_5x5_reduce  Sinks: ['inception_4d/relu_5x5_reduce', 'inception_4d/5x5']\n",
      "Key: inception_4d/5x5 Source: inception_4d/relu_5x5  Sinks: ['inception_4d/relu_5x5', 'inception_4d/output']\n",
      "Key: inception_4d/pool Source: inception_4d/pool  Sinks: ['inception_4d/pool_proj']\n",
      "Key: inception_4d/pool_proj Source: inception_4d/relu_pool_proj  Sinks: ['inception_4d/relu_pool_proj', 'inception_4d/output']\n",
      "Key: inception_4d/output Source: inception_4d/output  Sinks: ['inception_4e/1x1', 'inception_4e/3x3_reduce', 'inception_4e/5x5_reduce', 'inception_4e/pool']\n",
      "Key: inception_4e/1x1 Source: inception_4e/relu_1x1  Sinks: ['inception_4e/relu_1x1', 'inception_4e/output']\n",
      "Key: inception_4e/3x3_reduce Source: inception_4e/relu_3x3_reduce  Sinks: ['inception_4e/relu_3x3_reduce', 'inception_4e/3x3']\n",
      "Key: inception_4e/3x3 Source: inception_4e/relu_3x3  Sinks: ['inception_4e/relu_3x3', 'inception_4e/output']\n",
      "Key: inception_4e/5x5_reduce Source: inception_4e/relu_5x5_reduce  Sinks: ['inception_4e/relu_5x5_reduce', 'inception_4e/5x5']\n",
      "Key: inception_4e/5x5 Source: inception_4e/relu_5x5  Sinks: ['inception_4e/relu_5x5', 'inception_4e/output']\n",
      "Key: inception_4e/pool Source: inception_4e/pool  Sinks: ['inception_4e/pool_proj']\n",
      "Key: inception_4e/pool_proj Source: inception_4e/relu_pool_proj  Sinks: ['inception_4e/relu_pool_proj', 'inception_4e/output']\n",
      "Key: inception_4e/output Source: inception_4e/output  Sinks: ['pool4/3x3_s2']\n",
      "Key: pool4/3x3_s2 Source: pool4/3x3_s2  Sinks: ['inception_5a/1x1', 'inception_5a/3x3_reduce', 'inception_5a/5x5_reduce', 'inception_5a/pool']\n",
      "Key: inception_5a/1x1 Source: inception_5a/relu_1x1  Sinks: ['inception_5a/relu_1x1', 'inception_5a/output']\n",
      "Key: inception_5a/3x3_reduce Source: inception_5a/relu_3x3_reduce  Sinks: ['inception_5a/relu_3x3_reduce', 'inception_5a/3x3']\n",
      "Key: inception_5a/3x3 Source: inception_5a/relu_3x3  Sinks: ['inception_5a/relu_3x3', 'inception_5a/output']\n",
      "Key: inception_5a/5x5_reduce Source: inception_5a/relu_5x5_reduce  Sinks: ['inception_5a/relu_5x5_reduce', 'inception_5a/5x5']\n",
      "Key: inception_5a/5x5 Source: inception_5a/relu_5x5  Sinks: ['inception_5a/relu_5x5', 'inception_5a/output']\n",
      "Key: inception_5a/pool Source: inception_5a/pool  Sinks: ['inception_5a/pool_proj']\n",
      "Key: inception_5a/pool_proj Source: inception_5a/relu_pool_proj  Sinks: ['inception_5a/relu_pool_proj', 'inception_5a/output']\n",
      "Key: inception_5a/output Source: inception_5a/output  Sinks: ['inception_5b/1x1', 'inception_5b/3x3_reduce', 'inception_5b/5x5_reduce', 'inception_5b/pool']\n",
      "Key: inception_5b/1x1 Source: inception_5b/relu_1x1  Sinks: ['inception_5b/relu_1x1', 'inception_5b/output']\n",
      "Key: inception_5b/3x3_reduce Source: inception_5b/relu_3x3_reduce  Sinks: ['inception_5b/relu_3x3_reduce', 'inception_5b/3x3']\n",
      "Key: inception_5b/3x3 Source: inception_5b/relu_3x3  Sinks: ['inception_5b/relu_3x3', 'inception_5b/output']\n",
      "Key: inception_5b/5x5_reduce Source: inception_5b/relu_5x5_reduce  Sinks: ['inception_5b/relu_5x5_reduce', 'inception_5b/5x5']\n",
      "Key: inception_5b/5x5 Source: inception_5b/relu_5x5  Sinks: ['inception_5b/relu_5x5', 'inception_5b/output']\n",
      "Key: inception_5b/pool Source: inception_5b/pool  Sinks: ['inception_5b/pool_proj']\n",
      "Key: inception_5b/pool_proj Source: inception_5b/relu_pool_proj  Sinks: ['inception_5b/relu_pool_proj', 'inception_5b/output']\n",
      "Key: inception_5b/output Source: inception_5b/output  Sinks: ['pool5/7x7_s1']\n",
      "Key: pool5/7x7_s1 Source: pool5/7x7_s1  Sinks: ['loss3/classifier']\n",
      "Key: loss3/classifier Source: loss3/classifier  Sinks: ['loss3/loss3']\n",
      "Key: loss3/loss3 Source: loss3/loss3  Sinks: []\n",
      "Found input to FPGA layer data\n",
      "INFO: Layer loss3/classifier is not in shell\n"
     ]
    }
   ],
   "source": [
    "Cut(prototxt)"
   ]
  },
  {
   "cell_type": "code",
   "execution_count": 12,
   "metadata": {},
   "outputs": [
    {
     "data": {
      "image/png": "[encoded data removed]",
      "text/plain": [
       "<IPython.core.display.Image object>"
      ]
     },
     "execution_count": 12,
     "metadata": {},
     "output_type": "execute_result"
    }
   ],
   "source": [
    "# Lets visualize the new graph with the FPGA subgraph\n",
    "net = caffe_pb2.NetParameter()\n",
    "text_format.Merge(open(\"xfdnn_auto_cut_deploy.prototxt\").read(), net)\n",
    "draw_net_to_file(net,\"xfdnn_auto_cut_deploy.png\")\n",
    "display(\"xfdnn_auto_cut_deploy.png\")"
   ]
  },
  {
   "cell_type": "markdown",
   "metadata": {},
   "source": [
    "### Step 5: Inference \n",
    "\n",
    "The inputs are the FPGA prototxt file, caffemodel weights, a test image, and the labels\n"
   ]
  },
  {
   "cell_type": "code",
   "execution_count": 13,
   "metadata": {},
   "outputs": [],
   "source": [
    "def Classify(prototxt,caffemodel,image,labels):\n",
    "    classifier = Classifier(prototxt,caffemodel,\n",
    "        mean=np.array([104,117,123]),\n",
    "        raw_scale=255, channel_swap=[2,1,0])\n",
    "\n",
    "    predictions = classifier.predict([io.load_image(image)]).flatten()\n",
    "    labels = np.loadtxt(labels, str, delimiter='\\t')\n",
    "    top_k = predictions.argsort()[-1:-6:-1]\n",
    "    for l,p in zip(labels[top_k],predictions[top_k]):\n",
    "        print (l,\" : \",p)"
   ]
  },
  {
   "cell_type": "code",
   "execution_count": 14,
   "metadata": {},
   "outputs": [
    {
     "data": {
      "image/jpeg": "[encoded data removed]",
      "text/plain": [
       "<IPython.core.display.Image object>"
      ]
     },
     "execution_count": 14,
     "metadata": {},
     "output_type": "execute_result"
    }
   ],
   "source": [
    "# Choose image to run, display it for reference\n",
    "image = HOME+\"/CK-TOOLS/dataset-imagenet-ilsvrc2012-val-min/ILSVRC2012_val_00000002.JPEG\"\n",
    "display(filename=image) "
   ]
  },
  {
   "cell_type": "code",
   "execution_count": 15,
   "metadata": {},
   "outputs": [
    {
     "name": "stdout",
     "output_type": "stream",
     "text": [
      "n04228054 ski  :  0.97637165\n",
      "n09193705 alp  :  0.012490155\n",
      "n04208210 shovel  :  0.009514801\n",
      "n04229816 ski mask  :  0.0011383776\n",
      "n03218198 dogsled, dog sled, dog sleigh  :  0.000111092755\n"
     ]
    },
    {
     "name": "stderr",
     "output_type": "stream",
     "text": [
      "/opt/vitis_ai/conda/envs/vitis-ai-caffe/lib/python3.6/site-packages/skimage/io/_io.py:48: UserWarning: `as_grey` has been deprecated in favor of `as_gray`\n",
      "  warn('`as_grey` has been deprecated in favor of `as_gray`')\n"
     ]
    }
   ],
   "source": [
    "Classify(\"xfdnn_auto_cut_deploy.prototxt\",caffemodel,image,HOME+\"/CK-TOOLS/dataset-imagenet-ilsvrc2012-aux/synset_words.txt\") "
   ]
  },
  {
   "cell_type": "markdown",
   "metadata": {},
   "source": [
    "# Conclusion\n",
    "This notebook demonstrates how to target Xilinx FPGAs for inference using Caffe.    \n",
    "When the time comes to take your application to production please look at examples in /workspace/alveo/examples/deployment_modes/  \n",
    "Highest performance is acheived by creating multiprocess pipelines."
   ]
  }
 ],
 "metadata": {
  "kernelspec": {
   "display_name": "Python 3",
   "language": "python",
   "name": "python3"
  },
  "language_info": {
   "codemirror_mode": {
    "name": "ipython",
    "version": 3
   },
   "file_extension": ".py",
   "mimetype": "text/x-python",
   "name": "python",
   "nbconvert_exporter": "python",
   "pygments_lexer": "ipython3",
   "version": "3.6.9"
  }
 },
 "nbformat": 4,
 "nbformat_minor": 2
}
